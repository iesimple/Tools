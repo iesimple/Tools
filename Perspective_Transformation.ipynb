{
 "cells": [
  {
   "cell_type": "markdown",
   "metadata": {},
   "source": [
    "### 小批量图像透视变换 "
   ]
  },
  {
   "cell_type": "code",
   "execution_count": 1,
   "metadata": {},
   "outputs": [],
   "source": [
    "import cv2\n",
    "import numpy as np\n",
    "import os"
   ]
  },
  {
   "cell_type": "code",
   "execution_count": 2,
   "metadata": {},
   "outputs": [],
   "source": [
    "def read_directory(directory_path):\n",
    "    \"\"\"读取指定文件夹中所有图像，要求文件夹中文件都是图像\n",
    "\n",
    "    Args:\n",
    "        directory_path (string): 文件夹目录\n",
    "\n",
    "    Returns:\n",
    "        list: 以cv2读取的图像列表\n",
    "    \"\"\"\n",
    "    array_of_image = []\n",
    "    for filename in os.listdir(directory_path):\n",
    "\n",
    "        img = cv2.imread(directory_path + '/' + filename)\n",
    "        array_of_image.append(img)\n",
    "\n",
    "    return array_of_image\n"
   ]
  },
  {
   "cell_type": "code",
   "execution_count": 3,
   "metadata": {},
   "outputs": [],
   "source": [
    "def mouse(event, x, y, flags, param):\n",
    "    \"\"\"响应cv2鼠标点击事件获取点击处的像素点坐标\n",
    "    \"\"\"\n",
    "    global src\n",
    "    if event == cv2.EVENT_LBUTTONDOWN:\n",
    "        xy = \"%d,%d\" % (x, y)\n",
    "        src.append([x, y])\n",
    "        # cv2.circle(img, (x, y), 1, (255, 255, 255), thickness=-1)\n",
    "        # cv2.putText(img,\n",
    "        #             xy, (x, y),\n",
    "        #             cv2.FONT_HERSHEY_PLAIN,\n",
    "        #             1.0, (255, 255, 255),\n",
    "        #             thickness=1)\n",
    "        # cv2.imshow(\"image\", img)\n"
   ]
  },
  {
   "cell_type": "code",
   "execution_count": 4,
   "metadata": {},
   "outputs": [
    {
     "name": "stdout",
     "output_type": "stream",
     "text": [
      "[601, 930]\n",
      "[745, 3130]\n",
      "[3683, 2885]\n",
      "[3501, 1111]\n"
     ]
    }
   ],
   "source": [
    "# 测试用代码\n",
    "src = []\n",
    "img = cv2.imread(\"./images/IMG_0050.JPG\")\n",
    "cv2.namedWindow(\"image\", cv2.WINDOW_NORMAL)\n",
    "cv2.imshow(\"image\", img)\n",
    "cv2.setMouseCallback(\"image\", mouse)\n",
    "# cv2.imshow(\"img\",dst)\n",
    "\n",
    "cv2.waitKey(0)\n",
    "cv2.destroyAllWindows()\n",
    "\n",
    "print(src)"
   ]
  },
  {
   "cell_type": "code",
   "execution_count": 10,
   "metadata": {},
   "outputs": [],
   "source": [
    "# 3500*2100\n",
    "def get_perspective_mat(src, dst):\n",
    "    \"\"\"获取透视变换举证\n",
    "\n",
    "    Args:\n",
    "        src (list): 源坐标点\n",
    "        dst (list): 目标坐标点\n",
    "\n",
    "    Returns:\n",
    "        _type_: 透视变换矩阵\n",
    "    \"\"\"\n",
    "    src_points = np.array(src, dtype=\"float32\")\n",
    "    dst_points = np.array(dst, dtype=\"float32\")\n",
    "    M = cv2.getPerspectiveTransform(src_points, dst_points)\n",
    "    return M"
   ]
  },
  {
   "cell_type": "code",
   "execution_count": 19,
   "metadata": {},
   "outputs": [],
   "source": [
    "dir_path = './images'\n",
    "images = read_directory(dir_path)"
   ]
  },
  {
   "cell_type": "code",
   "execution_count": 26,
   "metadata": {},
   "outputs": [],
   "source": [
    "# 希望变换后的图像尺寸\n",
    "# 如果希望变换的尺寸不确定，暂时做不到，后续有待优化\n",
    "# 应该是希望能自动确定一个合适的尺寸比较好\n",
    "dst = [[0, 0], [0, 2099], [3499, 2099], [3499, 0]]\n",
    "\n",
    "# 这里采用处理一张图像保存一张的方式，可以随时查看效果\n",
    "for index in range(len(images)):\n",
    "    image = images[index]\n",
    "    src = []\n",
    "    cv2.namedWindow(\"image\", cv2.WINDOW_NORMAL)\n",
    "    cv2.imshow(\"image\", image)\n",
    "    cv2.setMouseCallback(\"image\", mouse)\n",
    "    cv2.waitKey(0)\n",
    "    cv2.destroyAllWindows()\n",
    "    # 核心的变换代码就这两行，opencv\n",
    "    M = get_perspective_mat(src, dst)\n",
    "    perspective = cv2.warpPerspective(image, M, (3500,2100))\n",
    "    cv2.imwrite('./result/' + str(index).zfill(4) + '.jpg', perspective)"
   ]
  }
 ],
 "metadata": {
  "kernelspec": {
   "display_name": "Python 3",
   "language": "python",
   "name": "python3"
  },
  "language_info": {
   "codemirror_mode": {
    "name": "ipython",
    "version": 3
   },
   "file_extension": ".py",
   "mimetype": "text/x-python",
   "name": "python",
   "nbconvert_exporter": "python",
   "pygments_lexer": "ipython3",
   "version": "3.9.1"
  }
 },
 "nbformat": 4,
 "nbformat_minor": 2
}
